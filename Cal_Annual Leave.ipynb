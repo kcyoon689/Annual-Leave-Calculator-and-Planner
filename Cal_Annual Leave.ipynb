{
 "cells": [
  {
   "cell_type": "code",
   "execution_count": 1,
   "metadata": {},
   "outputs": [],
   "source": [
    "from datetime import datetime\n",
    "\n",
    "class AnnualLeaveCalculator:\n",
    "    def __init__(self, initial_leave_count=-1, accrual_day=27, accrual_start_date_str=\"24-01-01\"):\n",
    "        self.initial_leave_count = initial_leave_count\n",
    "        self.accrual_day = accrual_day\n",
    "        self.accrual_start_date = datetime.strptime(accrual_start_date_str, '%y-%m-%d')\n",
    "        self.used_leaves = []\n",
    "\n",
    "    def add_used_leave(self, date_str, leave_amount):\n",
    "        date = datetime.strptime(date_str, '%y-%m-%d')\n",
    "        self.used_leaves.append((date, leave_amount))\n",
    "\n",
    "    def calculate_accrued_leaves(self, check_date):\n",
    "        accrued_leaves = 0\n",
    "        current_date = self.accrual_start_date.replace(day=self.accrual_day)\n",
    "        \n",
    "        while current_date <= check_date:\n",
    "            accrued_leaves += 1\n",
    "        \n",
    "            if current_date.month == 12:\n",
    "                current_date = current_date.replace(year=current_date.year + 1, month=1)\n",
    "            else:\n",
    "                current_date = current_date.replace(month=current_date.month + 1)\n",
    "        \n",
    "        return accrued_leaves\n",
    "\n",
    "    def get_remaining_leaves(self, check_date_str):\n",
    "        check_date = datetime.strptime(check_date_str, '%y-%m-%d')\n",
    "        \n",
    "        total_accrued_leaves = self.initial_leave_count + self.calculate_accrued_leaves(check_date)\n",
    "        \n",
    "        total_used_leaves = sum(leave_amount for date, leave_amount in self.used_leaves if date <= check_date)\n",
    "        \n",
    "        remaining_leaves = total_accrued_leaves - total_used_leaves\n",
    "        return remaining_leaves"
   ]
  },
  {
   "cell_type": "code",
   "execution_count": 2,
   "metadata": {},
   "outputs": [
    {
     "name": "stdout",
     "output_type": "stream",
     "text": [
      "잔여 연차 개수: 3.5개\n"
     ]
    }
   ],
   "source": [
    "leave_calculator = AnnualLeaveCalculator(accrual_day=27, accrual_start_date_str=\"24-05-27\")\n",
    "\n",
    "leave_calculator.add_used_leave('24-08-09', 0.5) \n",
    "leave_calculator.add_used_leave('24-10-23', 0.5)\n",
    "leave_calculator.add_used_leave('24-11-15', 0.5)\n",
    "leave_calculator.add_used_leave('24-11-27', 1.0)\n",
    "leave_calculator.add_used_leave('24-12-01', 1.0)\n",
    "leave_calculator.add_used_leave('25-01-27', 1.0)\n",
    "\n",
    "remaining_leaves = leave_calculator.get_remaining_leaves('25-02-03')\n",
    "print(f\"잔여 연차 개수: {remaining_leaves}개\")"
   ]
  }
 ],
 "metadata": {
  "kernelspec": {
   "display_name": "base",
   "language": "python",
   "name": "python3"
  },
  "language_info": {
   "codemirror_mode": {
    "name": "ipython",
    "version": 3
   },
   "file_extension": ".py",
   "mimetype": "text/x-python",
   "name": "python",
   "nbconvert_exporter": "python",
   "pygments_lexer": "ipython3",
   "version": "3.10.13"
  }
 },
 "nbformat": 4,
 "nbformat_minor": 2
}
