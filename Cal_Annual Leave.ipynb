{
 "cells": [
  {
   "cell_type": "code",
   "execution_count": 2,
   "metadata": {},
   "outputs": [],
   "source": [
    "from datetime import datetime\n",
    "\n",
    "class AnnualLeaveCalculator:\n",
    "    def __init__(self, initial_leave_count=0, accrual_day=27, accrual_start_date_str=\"24-01-01\"):\n",
    "        self.initial_leave_count = initial_leave_count-1\n",
    "        self.accrual_day = accrual_day\n",
    "        self.accrual_start_date = datetime.strptime(accrual_start_date_str, '%y-%m-%d')\n",
    "        self.used_leaves = []\n",
    "\n",
    "    def add_used_leave(self, date_str, leave_amount):\n",
    "        date = datetime.strptime(date_str, '%y-%m-%d')\n",
    "        self.used_leaves.append((date, leave_amount))\n",
    "\n",
    "    def calculate_accrued_leaves(self, check_date):\n",
    "        accrued_leaves = 0\n",
    "        current_date = self.accrual_start_date.replace(day=self.accrual_day)\n",
    "        \n",
    "        while current_date <= check_date:\n",
    "            accrued_leaves += 1\n",
    "        \n",
    "            if current_date.month == 12:\n",
    "                current_date = current_date.replace(year=current_date.year + 1, month=1)\n",
    "            else:\n",
    "                current_date = current_date.replace(month=current_date.month + 1)\n",
    "        \n",
    "        return accrued_leaves\n",
    "\n",
    "    def get_remaining_leaves(self, check_date_str):\n",
    "        check_date = datetime.strptime(check_date_str, '%y-%m-%d')\n",
    "        \n",
    "        total_accrued_leaves = self.initial_leave_count + self.calculate_accrued_leaves(check_date)\n",
    "        \n",
    "        total_used_leaves = sum(leave_amount for date, leave_amount in self.used_leaves if date <= check_date)\n",
    "        \n",
    "        remaining_leaves = total_accrued_leaves - total_used_leaves\n",
    "        return remaining_leaves"
   ]
  },
  {
   "cell_type": "code",
   "execution_count": 6,
   "metadata": {},
   "outputs": [
    {
     "name": "stdout",
     "output_type": "stream",
     "text": [
      "24-11-24 기준 잔여 연차: 3.5 개\n",
      "24-11-26 기준 잔여 연차: 3.5 개\n",
      "24-12-27 기준 잔여 연차: 5.5 개\n",
      "25-1-26 기준 잔여 연차: 5.5 개\n",
      "25-1-27 기준 잔여 연차: 6.5 개\n"
     ]
    }
   ],
   "source": [
    "leave_calculator = AnnualLeaveCalculator(accrual_day=27, accrual_start_date_str=\"24-05-27\")\n",
    "\n",
    "# yy-mm-dd\n",
    "leave_schedule = [\n",
    "    ('24-08-09', 0.5), # half day\n",
    "    ('24-11-20', 1.0) # full day\n",
    "]\n",
    "\n",
    "for leaves in leave_schedule:\n",
    "    leave_calculator.add_used_leave(*leaves)\n",
    "\n",
    "date_to_check = ['24-11-24', '24-11-26', '24-12-27', '25-1-26', '25-1-27']\n",
    "for date in date_to_check:\n",
    "    remaining_leaves = leave_calculator.get_remaining_leaves(date)\n",
    "    print(f'{date} 기준 잔여 연차: {remaining_leaves} 개')"
   ]
  }
 ],
 "metadata": {
  "kernelspec": {
   "display_name": "base",
   "language": "python",
   "name": "python3"
  },
  "language_info": {
   "codemirror_mode": {
    "name": "ipython",
    "version": 3
   },
   "file_extension": ".py",
   "mimetype": "text/x-python",
   "name": "python",
   "nbconvert_exporter": "python",
   "pygments_lexer": "ipython3",
   "version": "3.10.13"
  }
 },
 "nbformat": 4,
 "nbformat_minor": 2
}
